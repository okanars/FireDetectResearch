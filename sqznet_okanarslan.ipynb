{
  "cells": [
    {
      "cell_type": "code",
      "execution_count": 2,
      "metadata": {
        "id": "NoWPGLT8FhpX"
      },
      "outputs": [],
      "source": [
        "from google.colab import drive"
      ]
    },
    {
      "cell_type": "code",
      "execution_count": 3,
      "metadata": {
        "colab": {
          "base_uri": "https://localhost:8080/"
        },
        "id": "KxvuaEkTFnph",
        "outputId": "238afc09-129c-4db3-8763-6a86356a92e8"
      },
      "outputs": [
        {
          "name": "stdout",
          "output_type": "stream",
          "text": [
            "Drive already mounted at /content/drive; to attempt to forcibly remount, call drive.mount(\"/content/drive\", force_remount=True).\n"
          ]
        }
      ],
      "source": [
        "drive.mount('/content/drive')"
      ]
    },
    {
      "cell_type": "code",
      "execution_count": 5,
      "metadata": {
        "id": "CM1zio2Q97b_"
      },
      "outputs": [],
      "source": [
        "import torch\n",
        "import torch.nn as nn\n",
        "import torch.optim as optim\n",
        "from torch.utils.data import DataLoader\n",
        "from torchvision import datasets, transforms\n",
        "from sklearn.metrics import accuracy_score, precision_score, recall_score, f1_score, confusion_matrix\n",
        "import numpy as np\n",
        "import pandas as pd\n",
        "import matplotlib.pyplot as plt\n",
        "import tensorflow as tf\n",
        "from sklearn.model_selection import train_test_split\n",
        "from PIL import Image"
      ]
    },
    {
      "cell_type": "code",
      "execution_count": 4,
      "metadata": {
        "id": "Sl6UyVln-NFy"
      },
      "outputs": [],
      "source": [
        "import torch\n",
        "from torchvision import datasets, transforms\n",
        "from torch.utils.data import random_split\n",
        "\n",
        "BATCH_SIZE = 32\n",
        "IMAGE_SIZE = (320, 320)\n",
        "dataset = \"/content/drive/MyDrive/fire_dataset-2\"\n",
        "\n",
        "# Veri ön işleme ve dönüşümleri tanımlayın\n",
        "transform = transforms.Compose([\n",
        "    transforms.Resize(IMAGE_SIZE),\n",
        "    transforms.ToTensor(),\n",
        "    transforms.Normalize(mean=[0.485, 0.456, 0.406], std=[0.229, 0.224, 0.225])\n",
        "])\n",
        "\n",
        "# Veri setini yükleyin\n",
        "full_dataset = datasets.ImageFolder(dataset, transform=transform)\n",
        "\n",
        "# Veri setini train, validation ve test olarak bölün\n",
        "train_size = int(0.8 * len(full_dataset))\n",
        "valid_size = int(0.1 * len(full_dataset))\n",
        "test_size = len(full_dataset) - train_size - valid_size\n",
        "\n",
        "train_dataset, valid_dataset, test_dataset = random_split(full_dataset, [train_size, valid_size, test_size])\n",
        "\n",
        "# DataLoader oluşturun\n",
        "train_loader = torch.utils.data.DataLoader(train_dataset, batch_size=BATCH_SIZE, shuffle=True)\n",
        "valid_loader = torch.utils.data.DataLoader(valid_dataset, batch_size=BATCH_SIZE, shuffle=False)\n",
        "test_loader = torch.utils.data.DataLoader(test_dataset, batch_size=BATCH_SIZE, shuffle=False)\n"
      ]
    },
    {
      "cell_type": "code",
      "execution_count": 9,
      "metadata": {
        "colab": {
          "base_uri": "https://localhost:8080/"
        },
        "id": "KEl9ZIUZ-qkx",
        "outputId": "619aa9ea-4d5b-4a56-f202-d12cb8bdab67"
      },
      "outputs": [
        {
          "name": "stderr",
          "output_type": "stream",
          "text": [
            "Using cache found in /root/.cache/torch/hub/pytorch_vision_v0.10.0\n"
          ]
        }
      ],
      "source": [
        "model = torch.hub.load('pytorch/vision:v0.10.0', 'squeezenet1_0', pretrained=True)\n",
        "model.fc = nn.Linear(512, 2)  \n",
        "device = torch.device('cuda' if torch.cuda.is_available() else 'cpu')\n",
        "model = model.to(device)\n"
      ]
    },
    {
      "cell_type": "code",
      "execution_count": 11,
      "metadata": {
        "id": "M2DvP7vR_cZF"
      },
      "outputs": [],
      "source": [
        "criterion = nn.CrossEntropyLoss()\n",
        "optimizer = optim.Adam(model.parameters(), lr=0.0001)\n"
      ]
    },
    {
      "cell_type": "code",
      "execution_count": 12,
      "metadata": {
        "id": "iAYmd4lI_lry"
      },
      "outputs": [],
      "source": [
        "def train(model, train_loader, criterion, optimizer):\n",
        "    model.train()\n",
        "    train_loss = 0\n",
        "    correct = 0\n",
        "    total = 0\n",
        "\n",
        "    for images, labels in train_loader:\n",
        "        images = images.to(device)\n",
        "        labels = labels.to(device)\n",
        "\n",
        "        optimizer.zero_grad()\n",
        "        outputs = model(images)\n",
        "        loss = criterion(outputs, labels)\n",
        "        loss.backward()\n",
        "        optimizer.step()\n",
        "\n",
        "        train_loss += loss.item()\n",
        "        _, predicted = outputs.max(1)\n",
        "        total += labels.size(0)\n",
        "        correct += predicted.eq(labels).sum().item()\n",
        "\n",
        "    accuracy = 100 * correct / total\n",
        "    avg_loss = train_loss / len(train_loader)\n",
        "\n",
        "    return avg_loss, accuracy\n",
        "\n",
        "def validate(model, valid_loader, criterion):\n",
        "    model.eval()\n",
        "    valid_loss = 0\n",
        "    correct = 0\n",
        "    total = 0\n",
        "\n",
        "    with torch.no_grad():\n",
        "        for images, labels in valid_loader:\n",
        "            images = images.to(device)\n",
        "            labels = labels.to(device)\n",
        "\n",
        "            outputs = model(images)\n",
        "            loss = criterion(outputs, labels)\n",
        "\n",
        "            valid_loss += loss.item()\n",
        "            _, predicted = outputs.max(1)\n",
        "            total += labels.size(0)\n",
        "            correct += predicted.eq(labels).sum().item()\n",
        "\n",
        "    accuracy = 100 * correct / total\n",
        "    avg_loss = valid_loss / len(valid_loader)\n",
        "\n",
        "    return avg_loss, accuracy\n"
      ]
    },
    {
      "cell_type": "code",
      "execution_count": 13,
      "metadata": {
        "colab": {
          "base_uri": "https://localhost:8080/"
        },
        "id": "GVGVIPafAA4_",
        "outputId": "294ae069-2fc2-4c17-a83e-3527a7fa9358"
      },
      "outputs": [
        {
          "name": "stdout",
          "output_type": "stream",
          "text": [
            "Epoch: 1/20, Train Loss: 1.7082, Train Acc: 73.09%, Valid Loss: 0.0550, Valid Acc: 95.96%\n",
            "Epoch: 2/20, Train Loss: 0.0870, Train Acc: 97.12%, Valid Loss: 0.0732, Valid Acc: 96.97%\n",
            "Epoch: 3/20, Train Loss: 0.0595, Train Acc: 98.12%, Valid Loss: 0.1130, Valid Acc: 95.96%\n",
            "Epoch: 4/20, Train Loss: 0.0546, Train Acc: 98.87%, Valid Loss: 0.0559, Valid Acc: 97.98%\n",
            "Epoch: 5/20, Train Loss: 0.0636, Train Acc: 98.12%, Valid Loss: 0.0669, Valid Acc: 96.97%\n",
            "Epoch: 6/20, Train Loss: 0.0425, Train Acc: 98.75%, Valid Loss: 0.1330, Valid Acc: 95.96%\n",
            "Epoch: 7/20, Train Loss: 0.0345, Train Acc: 99.50%, Valid Loss: 0.0654, Valid Acc: 96.97%\n",
            "Epoch: 8/20, Train Loss: 0.0239, Train Acc: 99.50%, Valid Loss: 0.0454, Valid Acc: 96.97%\n",
            "Epoch: 9/20, Train Loss: 0.0239, Train Acc: 99.75%, Valid Loss: 0.0659, Valid Acc: 95.96%\n",
            "Epoch: 10/20, Train Loss: 0.0178, Train Acc: 99.75%, Valid Loss: 0.0492, Valid Acc: 96.97%\n",
            "Epoch: 11/20, Train Loss: 0.0205, Train Acc: 99.37%, Valid Loss: 0.0440, Valid Acc: 97.98%\n",
            "Epoch: 12/20, Train Loss: 0.0135, Train Acc: 99.87%, Valid Loss: 0.1139, Valid Acc: 95.96%\n",
            "Epoch: 13/20, Train Loss: 0.0172, Train Acc: 99.12%, Valid Loss: 0.1083, Valid Acc: 96.97%\n",
            "Epoch: 14/20, Train Loss: 0.0548, Train Acc: 97.37%, Valid Loss: 0.1574, Valid Acc: 96.97%\n",
            "Epoch: 15/20, Train Loss: 0.0569, Train Acc: 98.62%, Valid Loss: 0.0477, Valid Acc: 96.97%\n",
            "Epoch: 16/20, Train Loss: 0.0299, Train Acc: 98.87%, Valid Loss: 0.0555, Valid Acc: 97.98%\n",
            "Epoch: 17/20, Train Loss: 0.0110, Train Acc: 99.87%, Valid Loss: 0.0769, Valid Acc: 95.96%\n",
            "Epoch: 18/20, Train Loss: 0.0069, Train Acc: 99.75%, Valid Loss: 0.0386, Valid Acc: 96.97%\n",
            "Epoch: 19/20, Train Loss: 0.0080, Train Acc: 99.87%, Valid Loss: 0.0533, Valid Acc: 96.97%\n",
            "Epoch: 20/20, Train Loss: 0.0039, Train Acc: 99.87%, Valid Loss: 0.0984, Valid Acc: 96.97%\n"
          ]
        }
      ],
      "source": [
        "epochs = 20\n",
        "\n",
        "for epoch in range(epochs):\n",
        "    train_loss, train_acc = train(model, train_loader, criterion, optimizer)\n",
        "    valid_loss, valid_acc = validate(model, valid_loader, criterion)\n",
        "\n",
        "    print(f'Epoch: {epoch+1}/{epochs}, '\n",
        "          f'Train Loss: {train_loss:.4f}, Train Acc: {train_acc:.2f}%, '\n",
        "          f'Valid Loss: {valid_loss:.4f}, Valid Acc: {valid_acc:.2f}%')\n"
      ]
    },
    {
      "cell_type": "code",
      "execution_count": 14,
      "metadata": {
        "colab": {
          "base_uri": "https://localhost:8080/"
        },
        "id": "xdu_2iocD3-z",
        "outputId": "db844aa1-d0fd-47a4-ee07-d4e48341be39"
      },
      "outputs": [
        {
          "name": "stdout",
          "output_type": "stream",
          "text": [
            "Test Accuracy: 0.98%, Precision: 0.98, Recall: 0.98, F1 Score: 0.98\n",
            "Confusion Matrix:\n",
            "[[75  0]\n",
            " [ 2 24]]\n"
          ]
        }
      ],
      "source": [
        "    def test(model, test_loader):\n",
        "        model.eval()\n",
        "        predictions = []\n",
        "        true_labels = []\n",
        "\n",
        "        with torch.no_grad():\n",
        "            for images, labels in test_loader:\n",
        "                images = images.to(device)\n",
        "                labels = labels.to(device)\n",
        "\n",
        "                outputs = model(images)\n",
        "                _, predicted = outputs.max(1)\n",
        "\n",
        "                predictions.extend(predicted.cpu().numpy())\n",
        "                true_labels.extend(labels.cpu().numpy())\n",
        "\n",
        "        accuracy = accuracy_score(true_labels, predictions)\n",
        "        precision = precision_score(true_labels, predictions, average='weighted')\n",
        "        recall = recall_score(true_labels, predictions, average='weighted')\n",
        "        f1 = f1_score(true_labels, predictions, average='weighted')\n",
        "        cm = confusion_matrix(true_labels, predictions)\n",
        "\n",
        "        return accuracy, precision, recall, f1, cm\n",
        "\n",
        "    test_acc, test_precision, test_recall, test_f1, test_cm = test(model, test_loader)\n",
        "\n",
        "    print(f'Test Accuracy: {test_acc:.2f}%, '\n",
        "        f'Precision: {test_precision:.2f}, '\n",
        "        f'Recall: {test_recall:.2f}, '\n",
        "        f'F1 Score: {test_f1:.2f}')\n",
        "    print('Confusion Matrix:')\n",
        "    print(test_cm)\n"
      ]
    }
  ],
  "metadata": {
    "colab": {
      "provenance": []
    },
    "kernelspec": {
      "display_name": "Python 3",
      "language": "python",
      "name": "python3"
    },
    "language_info": {
      "name": "python",
      "version": "3.9.6 (default, May  7 2023, 23:32:44) \n[Clang 14.0.3 (clang-1403.0.22.14.1)]"
    },
    "vscode": {
      "interpreter": {
        "hash": "31f2aee4e71d21fbe5cf8b01ff0e069b9275f58929596ceb00d14d90e3e16cd6"
      }
    }
  },
  "nbformat": 4,
  "nbformat_minor": 0
}
